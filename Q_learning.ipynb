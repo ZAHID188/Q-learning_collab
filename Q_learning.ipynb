{
  "nbformat": 4,
  "nbformat_minor": 0,
  "metadata": {
    "colab": {
      "provenance": [],
      "gpuType": "T4",
      "authorship_tag": "ABX9TyMbciWtmnFqILRdCntgXZVp",
      "include_colab_link": true
    },
    "kernelspec": {
      "name": "python3",
      "display_name": "Python 3"
    },
    "language_info": {
      "name": "python"
    }
  },
  "cells": [
    {
      "cell_type": "markdown",
      "metadata": {
        "id": "view-in-github",
        "colab_type": "text"
      },
      "source": [
        "<a href=\"https://colab.research.google.com/github/ZAHID188/Q-learning_collab/blob/main/Q_learning.ipynb\" target=\"_parent\"><img src=\"https://colab.research.google.com/assets/colab-badge.svg\" alt=\"Open In Colab\"/></a>"
      ]
    },
    {
      "cell_type": "code",
      "execution_count": null,
      "metadata": {
        "id": "u7G8KqhHzK9W",
        "colab": {
          "base_uri": "https://localhost:8080/"
        },
        "outputId": "af45a82b-bff5-4d43-fe31-56aa254a72c5"
      },
      "outputs": [
        {
          "output_type": "stream",
          "name": "stdout",
          "text": [
            "Hi\n"
          ]
        }
      ],
      "source": [
        "import os\n",
        "import numpy as np\n",
        "import tensorflow as tf\n",
        "print('Hi')"
      ]
    },
    {
      "cell_type": "code",
      "source": [
        "class deeepQNetwork(object):\n",
        "  #learning rate =lr, number of action=n_actions,name= name of actions\n",
        "  #fcl_dim= fully connected layer dimension,\n",
        "  def __init__(self,lr,n_actions,name,fcl_dims=256,input_dims=(210,160,4),chkpt_dir='tmp/dqn'):\n",
        "    self.lr=lr\n",
        "    self.name=name\n",
        "    self.n_actions=n_actions\n",
        "    self.fcl_dims=fcl_dims\n",
        "    self.input_dims=input_dims\n",
        "    self.sess=tf.Session()\n",
        "    self.build_network()\n"
      ],
      "metadata": {
        "id": "Jpy1vD4K0DGW"
      },
      "execution_count": 2,
      "outputs": []
    }
  ]
}